{
 "cells": [
  {
   "cell_type": "markdown",
   "id": "ed6c335c-5d1b-4629-b8a5-92c6aa90b9a4",
   "metadata": {},
   "source": [
    "### DATA CODE BOOK\n",
    "\n",
    "[Data Dictionary](https://sda.berkeley.edu/sdaweb/docs/scfcomb2019/DOC/hcbk0001.htm#AGE)"
   ]
  },
  {
   "cell_type": "markdown",
   "id": "73129d43-5690-43cf-849f-04b4f13341f5",
   "metadata": {},
   "source": [
    "# Reading dataset"
   ]
  },
  {
   "cell_type": "code",
   "execution_count": 1,
   "id": "ae50f975-1283-498b-81b8-0547291b3710",
   "metadata": {},
   "outputs": [],
   "source": [
    "#pip install seaborn"
   ]
  },
  {
   "cell_type": "code",
   "execution_count": 2,
   "id": "d881b002-5e6c-438b-b424-9643ece2c490",
   "metadata": {},
   "outputs": [],
   "source": [
    "#pip install matplotlib"
   ]
  },
  {
   "cell_type": "code",
   "execution_count": 3,
   "id": "aa364f21-a680-457f-8a94-cf0f6d549e1f",
   "metadata": {},
   "outputs": [],
   "source": [
    "import pandas as pd\n",
    "import numpy as np\n",
    "import matplotlib.pyplot as plt\n",
    "import seaborn as sns\n"
   ]
  },
  {
   "cell_type": "code",
   "execution_count": 4,
   "id": "527b364a-2cb9-440e-9a84-a4aab77049e0",
   "metadata": {},
   "outputs": [],
   "source": [
    "df = pd.read_csv(\"./scfp2022excel/SCFP2022.csv\")"
   ]
  },
  {
   "cell_type": "code",
   "execution_count": 5,
   "id": "f982c658-bc2d-4ac5-9ff5-e74b73e3017d",
   "metadata": {},
   "outputs": [
    {
     "data": {
      "text/html": [
       "<div>\n",
       "<style scoped>\n",
       "    .dataframe tbody tr th:only-of-type {\n",
       "        vertical-align: middle;\n",
       "    }\n",
       "\n",
       "    .dataframe tbody tr th {\n",
       "        vertical-align: top;\n",
       "    }\n",
       "\n",
       "    .dataframe thead th {\n",
       "        text-align: right;\n",
       "    }\n",
       "</style>\n",
       "<table border=\"1\" class=\"dataframe\">\n",
       "  <thead>\n",
       "    <tr style=\"text-align: right;\">\n",
       "      <th></th>\n",
       "      <th>YY1</th>\n",
       "      <th>Y1</th>\n",
       "      <th>WGT</th>\n",
       "      <th>HHSEX</th>\n",
       "      <th>AGE</th>\n",
       "      <th>AGECL</th>\n",
       "      <th>EDUC</th>\n",
       "      <th>EDCL</th>\n",
       "      <th>MARRIED</th>\n",
       "      <th>KIDS</th>\n",
       "      <th>...</th>\n",
       "      <th>NWCAT</th>\n",
       "      <th>INCCAT</th>\n",
       "      <th>ASSETCAT</th>\n",
       "      <th>NINCCAT</th>\n",
       "      <th>NINC2CAT</th>\n",
       "      <th>NWPCTLECAT</th>\n",
       "      <th>INCPCTLECAT</th>\n",
       "      <th>NINCPCTLECAT</th>\n",
       "      <th>INCQRTCAT</th>\n",
       "      <th>NINCQRTCAT</th>\n",
       "    </tr>\n",
       "  </thead>\n",
       "  <tbody>\n",
       "    <tr>\n",
       "      <th>0</th>\n",
       "      <td>1</td>\n",
       "      <td>11</td>\n",
       "      <td>3027.956120</td>\n",
       "      <td>2</td>\n",
       "      <td>70</td>\n",
       "      <td>5</td>\n",
       "      <td>9</td>\n",
       "      <td>3</td>\n",
       "      <td>2</td>\n",
       "      <td>2</td>\n",
       "      <td>...</td>\n",
       "      <td>4</td>\n",
       "      <td>2</td>\n",
       "      <td>4</td>\n",
       "      <td>2</td>\n",
       "      <td>1</td>\n",
       "      <td>8</td>\n",
       "      <td>3</td>\n",
       "      <td>3</td>\n",
       "      <td>2</td>\n",
       "      <td>1</td>\n",
       "    </tr>\n",
       "    <tr>\n",
       "      <th>1</th>\n",
       "      <td>1</td>\n",
       "      <td>12</td>\n",
       "      <td>3054.900065</td>\n",
       "      <td>2</td>\n",
       "      <td>70</td>\n",
       "      <td>5</td>\n",
       "      <td>9</td>\n",
       "      <td>3</td>\n",
       "      <td>2</td>\n",
       "      <td>2</td>\n",
       "      <td>...</td>\n",
       "      <td>4</td>\n",
       "      <td>2</td>\n",
       "      <td>5</td>\n",
       "      <td>2</td>\n",
       "      <td>1</td>\n",
       "      <td>8</td>\n",
       "      <td>3</td>\n",
       "      <td>3</td>\n",
       "      <td>2</td>\n",
       "      <td>1</td>\n",
       "    </tr>\n",
       "    <tr>\n",
       "      <th>2</th>\n",
       "      <td>1</td>\n",
       "      <td>13</td>\n",
       "      <td>3163.637766</td>\n",
       "      <td>2</td>\n",
       "      <td>70</td>\n",
       "      <td>5</td>\n",
       "      <td>9</td>\n",
       "      <td>3</td>\n",
       "      <td>2</td>\n",
       "      <td>2</td>\n",
       "      <td>...</td>\n",
       "      <td>4</td>\n",
       "      <td>2</td>\n",
       "      <td>4</td>\n",
       "      <td>2</td>\n",
       "      <td>1</td>\n",
       "      <td>8</td>\n",
       "      <td>3</td>\n",
       "      <td>3</td>\n",
       "      <td>1</td>\n",
       "      <td>1</td>\n",
       "    </tr>\n",
       "    <tr>\n",
       "      <th>3</th>\n",
       "      <td>1</td>\n",
       "      <td>14</td>\n",
       "      <td>3166.228463</td>\n",
       "      <td>2</td>\n",
       "      <td>70</td>\n",
       "      <td>5</td>\n",
       "      <td>9</td>\n",
       "      <td>3</td>\n",
       "      <td>2</td>\n",
       "      <td>2</td>\n",
       "      <td>...</td>\n",
       "      <td>3</td>\n",
       "      <td>2</td>\n",
       "      <td>4</td>\n",
       "      <td>1</td>\n",
       "      <td>1</td>\n",
       "      <td>6</td>\n",
       "      <td>3</td>\n",
       "      <td>2</td>\n",
       "      <td>1</td>\n",
       "      <td>1</td>\n",
       "    </tr>\n",
       "    <tr>\n",
       "      <th>4</th>\n",
       "      <td>1</td>\n",
       "      <td>15</td>\n",
       "      <td>3235.624715</td>\n",
       "      <td>2</td>\n",
       "      <td>70</td>\n",
       "      <td>5</td>\n",
       "      <td>9</td>\n",
       "      <td>3</td>\n",
       "      <td>2</td>\n",
       "      <td>2</td>\n",
       "      <td>...</td>\n",
       "      <td>3</td>\n",
       "      <td>2</td>\n",
       "      <td>4</td>\n",
       "      <td>2</td>\n",
       "      <td>1</td>\n",
       "      <td>8</td>\n",
       "      <td>3</td>\n",
       "      <td>3</td>\n",
       "      <td>1</td>\n",
       "      <td>1</td>\n",
       "    </tr>\n",
       "  </tbody>\n",
       "</table>\n",
       "<p>5 rows × 356 columns</p>\n",
       "</div>"
      ],
      "text/plain": [
       "   YY1  Y1          WGT  HHSEX  AGE  AGECL  EDUC  EDCL  MARRIED  KIDS  ...  \\\n",
       "0    1  11  3027.956120      2   70      5     9     3        2     2  ...   \n",
       "1    1  12  3054.900065      2   70      5     9     3        2     2  ...   \n",
       "2    1  13  3163.637766      2   70      5     9     3        2     2  ...   \n",
       "3    1  14  3166.228463      2   70      5     9     3        2     2  ...   \n",
       "4    1  15  3235.624715      2   70      5     9     3        2     2  ...   \n",
       "\n",
       "   NWCAT  INCCAT  ASSETCAT  NINCCAT  NINC2CAT  NWPCTLECAT  INCPCTLECAT  \\\n",
       "0      4       2         4        2         1           8            3   \n",
       "1      4       2         5        2         1           8            3   \n",
       "2      4       2         4        2         1           8            3   \n",
       "3      3       2         4        1         1           6            3   \n",
       "4      3       2         4        2         1           8            3   \n",
       "\n",
       "   NINCPCTLECAT  INCQRTCAT  NINCQRTCAT  \n",
       "0             3          2           1  \n",
       "1             3          2           1  \n",
       "2             3          1           1  \n",
       "3             2          1           1  \n",
       "4             3          1           1  \n",
       "\n",
       "[5 rows x 356 columns]"
      ]
     },
     "execution_count": 5,
     "metadata": {},
     "output_type": "execute_result"
    }
   ],
   "source": [
    "df.head()\n",
    "#print(df.shape)"
   ]
  },
  {
   "cell_type": "markdown",
   "id": "458506f7-464c-4ebd-86b3-b5d8b34ea728",
   "metadata": {},
   "source": [
    "##### \n",
    "\n",
    "One of the first things you might notice here is that this dataset is HUGE — over 20,000 rows and 356 columns! SO MUCH DATA!!! We won't have time to explore all of the features in this dataset, but you can look in the data dictionary for this project for details and links to the official Code Book. For now, let's just say that this dataset tracks all sorts of behaviors relating to the ways households earn, save, and spend money in the United States.\r\n",
    "\r\n",
    "For this project, we're going to focus on households that have \"been turned down for credit or feared being denied credit in the past 5 years.\" These households are identified in the \"TURNFEAR\" columnumn.\n",
    "\n"
   ]
  },
  {
   "cell_type": "markdown",
   "id": "2b94c5f3-2e48-4844-b085-c96bff990667",
   "metadata": {},
   "source": [
    "## Exploration Data Analysis"
   ]
  },
  {
   "cell_type": "markdown",
   "id": "6a3a9fab-f5d9-4e11-a049-db7f658b607e",
   "metadata": {},
   "source": [
    "#### \n",
    "Here we will subset to households which have been feared to been turned down or feared being turned down for credit (\"TURNFEAR\" == 1) and assign this subset to the variable name df_fear."
   ]
  },
  {
   "cell_type": "code",
   "execution_count": 6,
   "id": "61c70490-7ece-4064-bef5-5a55e911ef90",
   "metadata": {},
   "outputs": [
    {
     "data": {
      "text/plain": [
       "3839"
      ]
     },
     "execution_count": 6,
     "metadata": {},
     "output_type": "execute_result"
    }
   ],
   "source": [
    "mask = df[\"TURNFEAR\"] ==1\n",
    "mask.sum()"
   ]
  },
  {
   "cell_type": "code",
   "execution_count": 7,
   "id": "35438b9c-662c-4ec6-a80c-e567822f8890",
   "metadata": {},
   "outputs": [
    {
     "name": "stdout",
     "output_type": "stream",
     "text": [
      "df_fear type: <class 'pandas.core.frame.DataFrame'>\n",
      "df_fear shape: (3839, 356)\n"
     ]
    },
    {
     "data": {
      "text/html": [
       "<div>\n",
       "<style scoped>\n",
       "    .dataframe tbody tr th:only-of-type {\n",
       "        vertical-align: middle;\n",
       "    }\n",
       "\n",
       "    .dataframe tbody tr th {\n",
       "        vertical-align: top;\n",
       "    }\n",
       "\n",
       "    .dataframe thead th {\n",
       "        text-align: right;\n",
       "    }\n",
       "</style>\n",
       "<table border=\"1\" class=\"dataframe\">\n",
       "  <thead>\n",
       "    <tr style=\"text-align: right;\">\n",
       "      <th></th>\n",
       "      <th>YY1</th>\n",
       "      <th>Y1</th>\n",
       "      <th>WGT</th>\n",
       "      <th>HHSEX</th>\n",
       "      <th>AGE</th>\n",
       "      <th>AGECL</th>\n",
       "      <th>EDUC</th>\n",
       "      <th>EDCL</th>\n",
       "      <th>MARRIED</th>\n",
       "      <th>KIDS</th>\n",
       "      <th>...</th>\n",
       "      <th>NWCAT</th>\n",
       "      <th>INCCAT</th>\n",
       "      <th>ASSETCAT</th>\n",
       "      <th>NINCCAT</th>\n",
       "      <th>NINC2CAT</th>\n",
       "      <th>NWPCTLECAT</th>\n",
       "      <th>INCPCTLECAT</th>\n",
       "      <th>NINCPCTLECAT</th>\n",
       "      <th>INCQRTCAT</th>\n",
       "      <th>NINCQRTCAT</th>\n",
       "    </tr>\n",
       "  </thead>\n",
       "  <tbody>\n",
       "    <tr>\n",
       "      <th>20</th>\n",
       "      <td>5</td>\n",
       "      <td>51</td>\n",
       "      <td>7191.481109</td>\n",
       "      <td>2</td>\n",
       "      <td>19</td>\n",
       "      <td>1</td>\n",
       "      <td>8</td>\n",
       "      <td>2</td>\n",
       "      <td>1</td>\n",
       "      <td>0</td>\n",
       "      <td>...</td>\n",
       "      <td>1</td>\n",
       "      <td>3</td>\n",
       "      <td>1</td>\n",
       "      <td>2</td>\n",
       "      <td>1</td>\n",
       "      <td>2</td>\n",
       "      <td>5</td>\n",
       "      <td>4</td>\n",
       "      <td>2</td>\n",
       "      <td>2</td>\n",
       "    </tr>\n",
       "    <tr>\n",
       "      <th>21</th>\n",
       "      <td>5</td>\n",
       "      <td>52</td>\n",
       "      <td>7352.487205</td>\n",
       "      <td>2</td>\n",
       "      <td>19</td>\n",
       "      <td>1</td>\n",
       "      <td>8</td>\n",
       "      <td>2</td>\n",
       "      <td>1</td>\n",
       "      <td>0</td>\n",
       "      <td>...</td>\n",
       "      <td>1</td>\n",
       "      <td>3</td>\n",
       "      <td>1</td>\n",
       "      <td>2</td>\n",
       "      <td>1</td>\n",
       "      <td>2</td>\n",
       "      <td>5</td>\n",
       "      <td>4</td>\n",
       "      <td>2</td>\n",
       "      <td>2</td>\n",
       "    </tr>\n",
       "    <tr>\n",
       "      <th>22</th>\n",
       "      <td>5</td>\n",
       "      <td>53</td>\n",
       "      <td>7270.703541</td>\n",
       "      <td>2</td>\n",
       "      <td>19</td>\n",
       "      <td>1</td>\n",
       "      <td>8</td>\n",
       "      <td>2</td>\n",
       "      <td>1</td>\n",
       "      <td>0</td>\n",
       "      <td>...</td>\n",
       "      <td>1</td>\n",
       "      <td>3</td>\n",
       "      <td>1</td>\n",
       "      <td>3</td>\n",
       "      <td>1</td>\n",
       "      <td>2</td>\n",
       "      <td>5</td>\n",
       "      <td>5</td>\n",
       "      <td>2</td>\n",
       "      <td>2</td>\n",
       "    </tr>\n",
       "    <tr>\n",
       "      <th>23</th>\n",
       "      <td>5</td>\n",
       "      <td>54</td>\n",
       "      <td>7383.866597</td>\n",
       "      <td>2</td>\n",
       "      <td>19</td>\n",
       "      <td>1</td>\n",
       "      <td>8</td>\n",
       "      <td>2</td>\n",
       "      <td>1</td>\n",
       "      <td>0</td>\n",
       "      <td>...</td>\n",
       "      <td>1</td>\n",
       "      <td>3</td>\n",
       "      <td>1</td>\n",
       "      <td>3</td>\n",
       "      <td>1</td>\n",
       "      <td>2</td>\n",
       "      <td>5</td>\n",
       "      <td>5</td>\n",
       "      <td>2</td>\n",
       "      <td>2</td>\n",
       "    </tr>\n",
       "    <tr>\n",
       "      <th>24</th>\n",
       "      <td>5</td>\n",
       "      <td>55</td>\n",
       "      <td>7330.537669</td>\n",
       "      <td>2</td>\n",
       "      <td>19</td>\n",
       "      <td>1</td>\n",
       "      <td>8</td>\n",
       "      <td>2</td>\n",
       "      <td>1</td>\n",
       "      <td>0</td>\n",
       "      <td>...</td>\n",
       "      <td>1</td>\n",
       "      <td>3</td>\n",
       "      <td>1</td>\n",
       "      <td>2</td>\n",
       "      <td>1</td>\n",
       "      <td>2</td>\n",
       "      <td>5</td>\n",
       "      <td>4</td>\n",
       "      <td>2</td>\n",
       "      <td>2</td>\n",
       "    </tr>\n",
       "  </tbody>\n",
       "</table>\n",
       "<p>5 rows × 356 columns</p>\n",
       "</div>"
      ],
      "text/plain": [
       "    YY1  Y1          WGT  HHSEX  AGE  AGECL  EDUC  EDCL  MARRIED  KIDS  ...  \\\n",
       "20    5  51  7191.481109      2   19      1     8     2        1     0  ...   \n",
       "21    5  52  7352.487205      2   19      1     8     2        1     0  ...   \n",
       "22    5  53  7270.703541      2   19      1     8     2        1     0  ...   \n",
       "23    5  54  7383.866597      2   19      1     8     2        1     0  ...   \n",
       "24    5  55  7330.537669      2   19      1     8     2        1     0  ...   \n",
       "\n",
       "    NWCAT  INCCAT  ASSETCAT  NINCCAT  NINC2CAT  NWPCTLECAT  INCPCTLECAT  \\\n",
       "20      1       3         1        2         1           2            5   \n",
       "21      1       3         1        2         1           2            5   \n",
       "22      1       3         1        3         1           2            5   \n",
       "23      1       3         1        3         1           2            5   \n",
       "24      1       3         1        2         1           2            5   \n",
       "\n",
       "    NINCPCTLECAT  INCQRTCAT  NINCQRTCAT  \n",
       "20             4          2           2  \n",
       "21             4          2           2  \n",
       "22             5          2           2  \n",
       "23             5          2           2  \n",
       "24             4          2           2  \n",
       "\n",
       "[5 rows x 356 columns]"
      ]
     },
     "execution_count": 7,
     "metadata": {},
     "output_type": "execute_result"
    }
   ],
   "source": [
    "mask = df[\"TURNFEAR\"] ==1\n",
    "df_fear = df[mask]\n",
    "print(\"df_fear type:\", type(df_fear))\n",
    "print(\"df_fear shape:\", df_fear.shape)\n",
    "df_fear.head()"
   ]
  },
  {
   "cell_type": "markdown",
   "id": "9b8e0dd9-8930-4c1e-a413-0ad29aa692e3",
   "metadata": {},
   "source": [
    "### AGE"
   ]
  },
  {
   "cell_type": "markdown",
   "id": "c4370714-2bcd-40cd-b9e2-d73211b47686",
   "metadata": {},
   "source": [
    "##### Now that we have our subset, let's explore the characteristics of this group. One of the features is age group (\"AGECL\")."
   ]
  },
  {
   "cell_type": "code",
   "execution_count": 8,
   "id": "a475dca6-920a-4e1f-8bfd-6dd1c20f4d8f",
   "metadata": {},
   "outputs": [
    {
     "name": "stdout",
     "output_type": "stream",
     "text": [
      "Age Groups: [1 4 2 3 5 6]\n"
     ]
    }
   ],
   "source": [
    "age_groups = df_fear[\"AGECL\"].unique()\n",
    "print(\"Age Groups:\", age_groups)"
   ]
  },
  {
   "cell_type": "code",
   "execution_count": 9,
   "id": "8f041e7a-f66a-4657-b81b-4dd15d71fc47",
   "metadata": {},
   "outputs": [
    {
     "name": "stdout",
     "output_type": "stream",
     "text": [
      "age_cl type: <class 'pandas.core.series.Series'>\n",
      "age_cl shape: (3839,)\n"
     ]
    },
    {
     "data": {
      "text/plain": [
       "20     Under 35\n",
       "21     Under 35\n",
       "22     Under 35\n",
       "23     Under 35\n",
       "24     Under 35\n",
       "110       55-64\n",
       "111       55-64\n",
       "112       55-64\n",
       "113       55-64\n",
       "114       55-64\n",
       "Name: AGECL, dtype: object"
      ]
     },
     "execution_count": 9,
     "metadata": {},
     "output_type": "execute_result"
    }
   ],
   "source": [
    "agecl_dict = {\n",
    "    1: \"Under 35\",\n",
    "    2: \"35-44\",\n",
    "    3: \"45-54\",\n",
    "    4: \"55-64\",\n",
    "    5: \"65-74\",\n",
    "    6: \"75 or Older\",\n",
    "}\n",
    "\n",
    "age_cl = df_fear[\"AGECL\"].replace(agecl_dict)\n",
    "print(\"age_cl type:\", type(age_cl))\n",
    "print(\"age_cl shape:\", age_cl.shape)\n",
    "age_cl.head(10)"
   ]
  },
  {
   "cell_type": "code",
   "execution_count": 10,
   "id": "3c6906e5-2e65-41b4-b506-6ec1bacf1f07",
   "metadata": {},
   "outputs": [
    {
     "data": {
      "text/plain": [
       "<Axes: title={'center': 'Gredit Fearful : Age Groups'}, xlabel='Age Groups', ylabel='Frequencies (counts)'>"
      ]
     },
     "execution_count": 10,
     "metadata": {},
     "output_type": "execute_result"
    },
    {
     "data": {
      "image/png": "[encoded data removed]",
      "text/plain": [
       "<Figure size 640x480 with 1 Axes>"
      ]
     },
     "metadata": {},
     "output_type": "display_data"
    }
   ],
   "source": [
    "age_cl_value_counts = age_cl.value_counts()\n",
    "# Bar plot of `age_cl_value_counts`\n",
    "age_cl_value_counts.plot(kind = \"bar\", \n",
    "                         xlabel= \"Age Groups\", \n",
    "                         ylabel = \"Frequencies (counts)\", \n",
    "                         title = \"Gredit Fearful : Age Groups\")"
   ]
  },
  {
   "cell_type": "markdown",
   "id": "e6a1b3fe-a129-4935-b377-2cc2d38e6aa1",
   "metadata": {},
   "source": [
    "####  \n",
    "Our chart is telling us that many of the people who fear being denied credit are younger. But the first two age groups cover a wider range than the other four. So it might be useful to look inside those values to get a more granular understanding of the data.\r\n",
    "\r\n",
    "To do that, we'll need to look at a different variable: \"AGE\". Whereas \"AGECL\" was a categorical variable, \"AGE\" is continuous, so we can use it to make a histogram of our own."
   ]
  },
  {
   "cell_type": "code",
   "execution_count": 11,
   "id": "53186234-08b2-415a-a276-e3fbe78b4766",
   "metadata": {},
   "outputs": [
    {
     "data": {
      "image/png": "[encoded data removed]",
      "text/plain": [
       "<Figure size 640x480 with 1 Axes>"
      ]
     },
     "metadata": {},
     "output_type": "display_data"
    }
   ],
   "source": [
    "# Plot histogram of \"AGE\"\n",
    "df_fear[\"AGE\"].hist(bins=10)\n",
    "plt.xlabel(\"Age\")\n",
    "plt.ylabel(\"Frequencies (count)\")\n",
    "plt.title(\"Credit Fearful: Age Distribution\")\n",
    "\n",
    "# Show the plot\n",
    "plt.show()\n"
   ]
  },
  {
   "cell_type": "markdown",
   "id": "e1070151-755b-44d6-bfd7-d5744f25c2fe",
   "metadata": {},
   "source": [
    "####\n",
    "From our chart above, it looks like younger people are still more concerned about being able to secure a loan than older people, but the people who are most concerned seem to be between 30 and 40."
   ]
  },
  {
   "cell_type": "markdown",
   "id": "17420aea-5998-4c82-9242-3bdabe7b48cf",
   "metadata": {},
   "source": [
    "### INCOME"
   ]
  },
  {
   "cell_type": "markdown",
   "id": "5e79e6f9-c5fa-4c71-ab22-8a82b4c53acf",
   "metadata": {},
   "source": [
    "#### \n",
    "Lets explore the income level. Are people with lower incomes concerned about being denied credit, or is that something people with more money worry about? In order to answer that question, we'll need to again compare the entire dataset with our subgroup using the \"INCCAT\" feature, which captures income percentile groups. This time, though, we'll make a single, side-by-side bar chart"
   ]
  },
  {
   "cell_type": "markdown",
   "id": "955ba231-d2f2-4a4c-8786-867a4acfeff0",
   "metadata": {},
   "source": [
    "####\n",
    "We will create a DataFrame df_inccat that shows the normalized frequency for income categories for both the credit fearful and non-credit fearful households in the dataset."
   ]
  },
  {
   "cell_type": "code",
   "execution_count": 12,
   "id": "4529c89b-e984-4243-a7fc-0da79c528303",
   "metadata": {},
   "outputs": [
    {
     "name": "stdout",
     "output_type": "stream",
     "text": [
      "df_inccat type: <class 'pandas.core.frame.DataFrame'>\n",
      "df_inccat shape: (12, 3)\n"
     ]
    },
    {
     "data": {
      "text/html": [
       "<div>\n",
       "<style scoped>\n",
       "    .dataframe tbody tr th:only-of-type {\n",
       "        vertical-align: middle;\n",
       "    }\n",
       "\n",
       "    .dataframe tbody tr th {\n",
       "        vertical-align: top;\n",
       "    }\n",
       "\n",
       "    .dataframe thead th {\n",
       "        text-align: right;\n",
       "    }\n",
       "</style>\n",
       "<table border=\"1\" class=\"dataframe\">\n",
       "  <thead>\n",
       "    <tr style=\"text-align: right;\">\n",
       "      <th></th>\n",
       "      <th>TURNFEAR</th>\n",
       "      <th>INCCAT</th>\n",
       "      <th>FREQUENCY</th>\n",
       "    </tr>\n",
       "  </thead>\n",
       "  <tbody>\n",
       "    <tr>\n",
       "      <th>0</th>\n",
       "      <td>0</td>\n",
       "      <td>90-100</td>\n",
       "      <td>0.303982</td>\n",
       "    </tr>\n",
       "    <tr>\n",
       "      <th>1</th>\n",
       "      <td>0</td>\n",
       "      <td>60-79.9</td>\n",
       "      <td>0.162312</td>\n",
       "    </tr>\n",
       "    <tr>\n",
       "      <th>2</th>\n",
       "      <td>0</td>\n",
       "      <td>40-59.9</td>\n",
       "      <td>0.144492</td>\n",
       "    </tr>\n",
       "    <tr>\n",
       "      <th>3</th>\n",
       "      <td>0</td>\n",
       "      <td>0-20</td>\n",
       "      <td>0.140050</td>\n",
       "    </tr>\n",
       "    <tr>\n",
       "      <th>4</th>\n",
       "      <td>0</td>\n",
       "      <td>21-39.9</td>\n",
       "      <td>0.139162</td>\n",
       "    </tr>\n",
       "    <tr>\n",
       "      <th>5</th>\n",
       "      <td>0</td>\n",
       "      <td>80-89.9</td>\n",
       "      <td>0.110002</td>\n",
       "    </tr>\n",
       "    <tr>\n",
       "      <th>6</th>\n",
       "      <td>1</td>\n",
       "      <td>0-20</td>\n",
       "      <td>0.340714</td>\n",
       "    </tr>\n",
       "    <tr>\n",
       "      <th>7</th>\n",
       "      <td>1</td>\n",
       "      <td>21-39.9</td>\n",
       "      <td>0.266476</td>\n",
       "    </tr>\n",
       "    <tr>\n",
       "      <th>8</th>\n",
       "      <td>1</td>\n",
       "      <td>40-59.9</td>\n",
       "      <td>0.205001</td>\n",
       "    </tr>\n",
       "    <tr>\n",
       "      <th>9</th>\n",
       "      <td>1</td>\n",
       "      <td>60-79.9</td>\n",
       "      <td>0.112529</td>\n",
       "    </tr>\n",
       "    <tr>\n",
       "      <th>10</th>\n",
       "      <td>1</td>\n",
       "      <td>80-89.9</td>\n",
       "      <td>0.041417</td>\n",
       "    </tr>\n",
       "    <tr>\n",
       "      <th>11</th>\n",
       "      <td>1</td>\n",
       "      <td>90-100</td>\n",
       "      <td>0.033863</td>\n",
       "    </tr>\n",
       "  </tbody>\n",
       "</table>\n",
       "</div>"
      ],
      "text/plain": [
       "    TURNFEAR   INCCAT  FREQUENCY\n",
       "0          0   90-100   0.303982\n",
       "1          0  60-79.9   0.162312\n",
       "2          0  40-59.9   0.144492\n",
       "3          0     0-20   0.140050\n",
       "4          0  21-39.9   0.139162\n",
       "5          0  80-89.9   0.110002\n",
       "6          1     0-20   0.340714\n",
       "7          1  21-39.9   0.266476\n",
       "8          1  40-59.9   0.205001\n",
       "9          1  60-79.9   0.112529\n",
       "10         1  80-89.9   0.041417\n",
       "11         1   90-100   0.033863"
      ]
     },
     "execution_count": 12,
     "metadata": {},
     "output_type": "execute_result"
    }
   ],
   "source": [
    "inccat_dict = {\n",
    "    1: \"0-20\",\n",
    "    2: \"21-39.9\",\n",
    "    3: \"40-59.9\",\n",
    "    4: \"60-79.9\",\n",
    "    5: \"80-89.9\",\n",
    "    6: \"90-100\",\n",
    "}\n",
    "\n",
    "df_inccat = df[\"INCCAT\"].replace(inccat_dict).groupby(df[\"TURNFEAR\"]).value_counts(normalize =True).rename(\"FREQUENCY\").to_frame().reset_index()\n",
    "                            \n",
    "\n",
    "print(\"df_inccat type:\", type(df_inccat))\n",
    "print(\"df_inccat shape:\", df_inccat.shape)\n",
    "df_inccat"
   ]
  },
  {
   "cell_type": "markdown",
   "id": "224230f8-08b3-49c9-914c-200655d9835a",
   "metadata": {},
   "source": [
    "####\n",
    "Using seaborn, we will create a side-by-side bar chart of df_inccat. Set hue to \"TURNFEAR\", and make sure that the income categories are in the correct order along the x-axis. We label the x-axis \"Income Category\", the y-axis \"Frequency (%)\", and use the title \"Income Distribution: Credit Fearful vs. Non-fearful\""
   ]
  },
  {
   "cell_type": "code",
   "execution_count": 13,
   "id": "73c68f67-a19b-4819-b504-f34901b90b80",
   "metadata": {},
   "outputs": [
    {
     "data": {
      "image/png": "[encoded data removed]",
      "text/plain": [
       "<Figure size 640x480 with 1 Axes>"
      ]
     },
     "metadata": {},
     "output_type": "display_data"
    }
   ],
   "source": [
    "# Create bar chart of `df_inccat`\n",
    "sns.barplot(x=\"INCCAT\",\n",
    "            y= \"FREQUENCY\", \n",
    "            hue = \"TURNFEAR\",\n",
    "            data = df_inccat,\n",
    "            order=inccat_dict.values())\n",
    "plt.xlabel(\"Income Category\")\n",
    "plt.ylabel(\"Frequency (%)\")\n",
    "plt.title(\"Income Distribution: Credit Fearful vs. Non-fearful\");"
   ]
  },
  {
   "cell_type": "markdown",
   "id": "34f00b1b-5248-4b86-933e-95604bde2e47",
   "metadata": {},
   "source": [
    "####\n",
    "Comparing the income categories across the fearful and non-fearful groups, we can see that credit fearful households are much more common in the lower income categories. In other words, the credit fearful have lower incomes.\r\n",
    "\r\n",
    "So, based on all this, what do we know? Among the people who responded that they were indeed worried about being approved for credit after having been denied in the past five years, a plurality of the young and low-income had the highest number of respondents. That makes sense, right? Young people tend to make less money and rely more heavily on credit to get their lives off the ground, so having been denied credit makes them more anxious about the future."
   ]
  },
  {
   "cell_type": "markdown",
   "id": "896cf2fc-b02c-42a2-900c-22245a90ce28",
   "metadata": {},
   "source": [
    "### RACE"
   ]
  },
  {
   "cell_type": "markdown",
   "id": "ab9d4b69-f1e4-49eb-81b2-2decea4c9741",
   "metadata": {},
   "source": [
    "   ####\n",
    "Now that we have an understanding of how age and income relate to our outcome of interest, let's try some other possibilities, starting with race. And if we look at the Code Book for \"RACE\", we can see that there are 4 categories.\n",
    "\n",
    "If you observe from the code book -race, there's no 4 category here. If a value for 4 did exist, it would be reasonable to assign it to \"Asian American / Pacific Islander\" — a group that doesn't seem to be represented in the dataset. This is a strange omission, but you'll often find that large public datasets have these sorts of issues. The important thing is to always read the data dictionary carefully. In this case, remember that this dataset doesn't provide a complete picture of race in America — something that you'd have to explain to anyone interested in your analysis."
   ]
  },
  {
   "cell_type": "markdown",
   "id": "aadfc9dd-a5e9-44fb-babb-3d6d9fe1f07e",
   "metadata": {},
   "source": [
    "#### \n",
    "Lets create a horizontal bar chart showing the normalized value counts for \"RACE\". In your chart, you should replace the numerical values with the true group names. Be sure to label the x-axis \"Frequency (%)\", the y-axis \"Race\", and use the title \"Credit Fearful: Racial Groups\". Finally, set the xlim for this plot to (0,1)."
   ]
  },
  {
   "cell_type": "code",
   "execution_count": 14,
   "id": "b6d79475-f443-45c0-ac92-8665c0bc8569",
   "metadata": {},
   "outputs": [
    {
     "data": {
      "image/png": "[encoded data removed]",
      "text/plain": [
       "<Figure size 640x480 with 1 Axes>"
      ]
     },
     "metadata": {},
     "output_type": "display_data"
    }
   ],
   "source": [
    "race_dict = {\n",
    "    1: \"White/Non-Hispanic\",\n",
    "    2: \"Black/African-American\",\n",
    "    3: \"Hispanic\",\n",
    "    5: \"Other\",\n",
    "}\n",
    "race = df_fear[\"RACE\"].replace(race_dict)\n",
    "race_value_counts = race.value_counts(normalize=True)\n",
    "# Create bar chart of race_value_counts\n",
    "race_value_counts.plot(kind= \"barh\")\n",
    "plt.xlim((0, 1))\n",
    "plt.xlabel(\"Frequency (%)\")\n",
    "plt.ylabel(\"Race\")\n",
    "plt.title(\"Credit Fearful: Racial Groups\");"
   ]
  },
  {
   "cell_type": "markdown",
   "id": "be370dbc-84fb-4340-90df-77e3f7906b50",
   "metadata": {},
   "source": [
    "####\n",
    "This suggests that White/Non-Hispanic people worry more about being denied credit, but thinking critically about what we're seeing, that might be because there are more White/Non-Hispanic in the population of the United States than there are other racial groups, and the sample for this survey was specifically drawn to be representative of the population as a whole.\n",
    "\n",
    "Let's recreate the horizontal bar chart we just made, but this time we use the entire dataset df instead of the subset df_fear. The title of this plot should be \"SCF Respondents: Racial Groups\". \n"
   ]
  },
  {
   "cell_type": "code",
   "execution_count": 16,
   "id": "701bfb0e-220c-472c-be0e-45957c0a6304",
   "metadata": {},
   "outputs": [
    {
     "data": {
      "image/png": "[encoded data removed]",
      "text/plain": [
       "<Figure size 640x480 with 1 Axes>"
      ]
     },
     "metadata": {},
     "output_type": "display_data"
    }
   ],
   "source": [
    "race = df[\"RACE\"]\n",
    "race_value_counts = race.value_counts(normalize=True)\n",
    "# Create bar chart of race_value_counts\n",
    "race_value_counts.plot(kind = \"barh\")\n",
    "plt.xlim((0, 1))\n",
    "plt.xlabel(\"Frequency (%)\")\n",
    "plt.ylabel(\"Race\")\n",
    "plt.title(\"SCF Respondents: Racial Groups\");"
   ]
  },
  {
   "cell_type": "markdown",
   "id": "bbc39d86-fcb1-4695-ad84-0af8fedcb737",
   "metadata": {},
   "source": [
    "####\n",
    "How does this second bar chart change our perception of the first one? On the one hand, we can see that White Non-Hispanics account for around 60% of whole dataset, but only around 40% of credit fearful respondents. On the other hand, Black and Hispanic respondents represent 18% of the whole dataset but 35% of credit fearful respondents. In other words, Black and Hispanic households are actually more likely to be in the credit fearful group."
   ]
  },
  {
   "cell_type": "markdown",
   "id": "e02cda59-19f1-4a93-a018-9b0cb994a5d0",
   "metadata": {},
   "source": [
    "### ASSETS"
   ]
  },
  {
   "cell_type": "markdown",
   "id": "269cc769-cde9-4b03-a50c-2be18873ee1b",
   "metadata": {},
   "source": [
    "####\n",
    "Not all the data is demographic, though. If we were working for a bank, we would probably care less about how old the people are, and more about their ability to carry more debt. If we were going to build a model for that, we'd want to establish some relationships among the variables, and making some correlation matrices is a good place to start.\r\n",
    "\r\n",
    "First, let's zoom out a little bit. We've been looking at only the people who answered \"yes\" when the survey asked about `\"TURNFEAR\"`, but what if we looked at everyone instead? To begin with, let's bring in a clear dataset and run a single correlatio\n",
    "\n",
    "Lets calculate the correlation coefficient for \"ASSET\" and \"HOUSES\" in the whole dataset df.n."
   ]
  },
  {
   "cell_type": "code",
   "execution_count": 18,
   "id": "39dcff0b-d280-48a7-9ea9-091196aa1b84",
   "metadata": {},
   "outputs": [
    {
     "name": "stdout",
     "output_type": "stream",
     "text": [
      "SCF: Asset Houses Correlation: 0.561776546509548\n"
     ]
    }
   ],
   "source": [
    "asset_house_corr = df[\"ASSET\"].corr(df[\"HOUSES\"])\n",
    "print(\"SCF: Asset Houses Correlation:\", asset_house_corr)"
   ]
  },
  {
   "cell_type": "markdown",
   "id": "d7a97ee4-a488-4f86-9c28-e5d9530b0bcb",
   "metadata": {},
   "source": [
    "#### \n",
    "That's a moderate positive correlation, which we would probably expect, right? For many Americans, the value of their primary residence makes up most of the value of their total assets. What about the people in our TURNFEAR subset, though? Let's run that correlation to see if there's a difference.\n",
    "\n",
    "Lets now calculate the correlation coefficient for \"ASSET\" and \"HOUSES\" in the whole credit-fearful subset df_fear."
   ]
  },
  {
   "cell_type": "code",
   "execution_count": 19,
   "id": "3b3fd8e8-6d5b-4004-a126-a6ba892de629",
   "metadata": {},
   "outputs": [
    {
     "name": "stdout",
     "output_type": "stream",
     "text": [
      "Credit Fearful: Asset Houses Correlation: 0.3649545427641164\n"
     ]
    }
   ],
   "source": [
    "asset_house_corr = df_fear[\"ASSET\"].corr(df_fear[\"HOUSES\"])\n",
    "print(\"Credit Fearful: Asset Houses Correlation:\", asset_house_corr)"
   ]
  },
  {
   "cell_type": "markdown",
   "id": "3364a302-bc2a-43d1-a834-99f99eaa535a",
   "metadata": {},
   "source": [
    "####\n",
    "Let's again make correlation matrices using the rest of the data for both df and df_fear and see if the differences persist. Here, we'll look at only 5 features: \"ASSET\", \"HOUSES\", \"INCOME\", \"DEBT\", and \"EDUC\"."
   ]
  },
  {
   "cell_type": "code",
   "execution_count": 20,
   "id": "e7c48cb5-c357-4f73-aebc-651316493ab4",
   "metadata": {},
   "outputs": [
    {
     "data": {
      "text/html": [
       "<style type=\"text/css\">\n",
       "#T_8534b_row0_col0, #T_8534b_row1_col1, #T_8534b_row2_col2, #T_8534b_row3_col3, #T_8534b_row4_col4 {\n",
       "  background-color: #023858;\n",
       "  color: #f1f1f1;\n",
       "}\n",
       "#T_8534b_row0_col1, #T_8534b_row1_col0 {\n",
       "  background-color: #69a5cc;\n",
       "  color: #f1f1f1;\n",
       "}\n",
       "#T_8534b_row0_col2, #T_8534b_row2_col0 {\n",
       "  background-color: #2182b9;\n",
       "  color: #f1f1f1;\n",
       "}\n",
       "#T_8534b_row0_col3, #T_8534b_row2_col3, #T_8534b_row3_col0, #T_8534b_row3_col2 {\n",
       "  background-color: #d2d3e7;\n",
       "  color: #000000;\n",
       "}\n",
       "#T_8534b_row0_col4, #T_8534b_row4_col0 {\n",
       "  background-color: #faf2f8;\n",
       "  color: #000000;\n",
       "}\n",
       "#T_8534b_row1_col2, #T_8534b_row2_col1 {\n",
       "  background-color: #b7c5df;\n",
       "  color: #000000;\n",
       "}\n",
       "#T_8534b_row1_col3, #T_8534b_row3_col1 {\n",
       "  background-color: #e0dded;\n",
       "  color: #000000;\n",
       "}\n",
       "#T_8534b_row1_col4, #T_8534b_row4_col1 {\n",
       "  background-color: #efe9f3;\n",
       "  color: #000000;\n",
       "}\n",
       "#T_8534b_row2_col4, #T_8534b_row4_col2 {\n",
       "  background-color: #fef6fa;\n",
       "  color: #000000;\n",
       "}\n",
       "#T_8534b_row3_col4, #T_8534b_row4_col3 {\n",
       "  background-color: #fff7fb;\n",
       "  color: #000000;\n",
       "}\n",
       "</style>\n",
       "<table id=\"T_8534b\">\n",
       "  <thead>\n",
       "    <tr>\n",
       "      <th class=\"blank level0\" >&nbsp;</th>\n",
       "      <th id=\"T_8534b_level0_col0\" class=\"col_heading level0 col0\" >ASSET</th>\n",
       "      <th id=\"T_8534b_level0_col1\" class=\"col_heading level0 col1\" >HOUSES</th>\n",
       "      <th id=\"T_8534b_level0_col2\" class=\"col_heading level0 col2\" >INCOME</th>\n",
       "      <th id=\"T_8534b_level0_col3\" class=\"col_heading level0 col3\" >DEBT</th>\n",
       "      <th id=\"T_8534b_level0_col4\" class=\"col_heading level0 col4\" >EDUC</th>\n",
       "    </tr>\n",
       "  </thead>\n",
       "  <tbody>\n",
       "    <tr>\n",
       "      <th id=\"T_8534b_level0_row0\" class=\"row_heading level0 row0\" >ASSET</th>\n",
       "      <td id=\"T_8534b_row0_col0\" class=\"data row0 col0\" >1.000000</td>\n",
       "      <td id=\"T_8534b_row0_col1\" class=\"data row0 col1\" >0.561777</td>\n",
       "      <td id=\"T_8534b_row0_col2\" class=\"data row0 col2\" >0.706685</td>\n",
       "      <td id=\"T_8534b_row0_col3\" class=\"data row0 col3\" >0.307143</td>\n",
       "      <td id=\"T_8534b_row0_col4\" class=\"data row0 col4\" >0.120139</td>\n",
       "    </tr>\n",
       "    <tr>\n",
       "      <th id=\"T_8534b_level0_row1\" class=\"row_heading level0 row1\" >HOUSES</th>\n",
       "      <td id=\"T_8534b_row1_col0\" class=\"data row1 col0\" >0.561777</td>\n",
       "      <td id=\"T_8534b_row1_col1\" class=\"data row1 col1\" >1.000000</td>\n",
       "      <td id=\"T_8534b_row1_col2\" class=\"data row1 col2\" >0.384699</td>\n",
       "      <td id=\"T_8534b_row1_col3\" class=\"data row1 col3\" >0.251876</td>\n",
       "      <td id=\"T_8534b_row1_col4\" class=\"data row1 col4\" >0.186120</td>\n",
       "    </tr>\n",
       "    <tr>\n",
       "      <th id=\"T_8534b_level0_row2\" class=\"row_heading level0 row2\" >INCOME</th>\n",
       "      <td id=\"T_8534b_row2_col0\" class=\"data row2 col0\" >0.706685</td>\n",
       "      <td id=\"T_8534b_row2_col1\" class=\"data row2 col1\" >0.384699</td>\n",
       "      <td id=\"T_8534b_row2_col2\" class=\"data row2 col2\" >1.000000</td>\n",
       "      <td id=\"T_8534b_row2_col3\" class=\"data row2 col3\" >0.306534</td>\n",
       "      <td id=\"T_8534b_row2_col4\" class=\"data row2 col4\" >0.096549</td>\n",
       "    </tr>\n",
       "    <tr>\n",
       "      <th id=\"T_8534b_level0_row3\" class=\"row_heading level0 row3\" >DEBT</th>\n",
       "      <td id=\"T_8534b_row3_col0\" class=\"data row3 col0\" >0.307143</td>\n",
       "      <td id=\"T_8534b_row3_col1\" class=\"data row3 col1\" >0.251876</td>\n",
       "      <td id=\"T_8534b_row3_col2\" class=\"data row3 col2\" >0.306534</td>\n",
       "      <td id=\"T_8534b_row3_col3\" class=\"data row3 col3\" >1.000000</td>\n",
       "      <td id=\"T_8534b_row3_col4\" class=\"data row3 col4\" >0.086561</td>\n",
       "    </tr>\n",
       "    <tr>\n",
       "      <th id=\"T_8534b_level0_row4\" class=\"row_heading level0 row4\" >EDUC</th>\n",
       "      <td id=\"T_8534b_row4_col0\" class=\"data row4 col0\" >0.120139</td>\n",
       "      <td id=\"T_8534b_row4_col1\" class=\"data row4 col1\" >0.186120</td>\n",
       "      <td id=\"T_8534b_row4_col2\" class=\"data row4 col2\" >0.096549</td>\n",
       "      <td id=\"T_8534b_row4_col3\" class=\"data row4 col3\" >0.086561</td>\n",
       "      <td id=\"T_8534b_row4_col4\" class=\"data row4 col4\" >1.000000</td>\n",
       "    </tr>\n",
       "  </tbody>\n",
       "</table>\n"
      ],
      "text/plain": [
       "<pandas.io.formats.style.Styler at 0x24ad516d9f0>"
      ]
     },
     "execution_count": 20,
     "metadata": {},
     "output_type": "execute_result"
    }
   ],
   "source": [
    "cols = [\"ASSET\", \"HOUSES\", \"INCOME\", \"DEBT\", \"EDUC\"]\n",
    "corr = df[cols].corr()\n",
    "corr.style.background_gradient(axis=None)"
   ]
  },
  {
   "cell_type": "markdown",
   "id": "c378268d-6e9b-44ce-8995-e47ad68fdcec",
   "metadata": {},
   "source": [
    "####\n",
    "Correlation matrix using `df_fear'."
   ]
  },
  {
   "cell_type": "code",
   "execution_count": 21,
   "id": "469b3a47-6763-49be-b983-c9df141be6f1",
   "metadata": {},
   "outputs": [
    {
     "data": {
      "text/html": [
       "<style type=\"text/css\">\n",
       "#T_9dba0_row0_col0, #T_9dba0_row1_col1, #T_9dba0_row2_col2, #T_9dba0_row3_col3, #T_9dba0_row4_col4 {\n",
       "  background-color: #023858;\n",
       "  color: #f1f1f1;\n",
       "}\n",
       "#T_9dba0_row0_col1, #T_9dba0_row1_col0 {\n",
       "  background-color: #c4cbe3;\n",
       "  color: #000000;\n",
       "}\n",
       "#T_9dba0_row0_col2, #T_9dba0_row2_col0 {\n",
       "  background-color: #04588a;\n",
       "  color: #f1f1f1;\n",
       "}\n",
       "#T_9dba0_row0_col3, #T_9dba0_row3_col0 {\n",
       "  background-color: #97b7d7;\n",
       "  color: #000000;\n",
       "}\n",
       "#T_9dba0_row0_col4, #T_9dba0_row2_col4, #T_9dba0_row4_col0, #T_9dba0_row4_col2 {\n",
       "  background-color: #fff7fb;\n",
       "  color: #000000;\n",
       "}\n",
       "#T_9dba0_row1_col2, #T_9dba0_row2_col1 {\n",
       "  background-color: #d4d4e8;\n",
       "  color: #000000;\n",
       "}\n",
       "#T_9dba0_row1_col3, #T_9dba0_row3_col1 {\n",
       "  background-color: #308cbe;\n",
       "  color: #f1f1f1;\n",
       "}\n",
       "#T_9dba0_row1_col4, #T_9dba0_row4_col1 {\n",
       "  background-color: #f1ebf4;\n",
       "  color: #000000;\n",
       "}\n",
       "#T_9dba0_row2_col3, #T_9dba0_row3_col2 {\n",
       "  background-color: #a1bbda;\n",
       "  color: #000000;\n",
       "}\n",
       "#T_9dba0_row3_col4, #T_9dba0_row4_col3 {\n",
       "  background-color: #f2ecf5;\n",
       "  color: #000000;\n",
       "}\n",
       "</style>\n",
       "<table id=\"T_9dba0\">\n",
       "  <thead>\n",
       "    <tr>\n",
       "      <th class=\"blank level0\" >&nbsp;</th>\n",
       "      <th id=\"T_9dba0_level0_col0\" class=\"col_heading level0 col0\" >ASSET</th>\n",
       "      <th id=\"T_9dba0_level0_col1\" class=\"col_heading level0 col1\" >HOUSES</th>\n",
       "      <th id=\"T_9dba0_level0_col2\" class=\"col_heading level0 col2\" >INCOME</th>\n",
       "      <th id=\"T_9dba0_level0_col3\" class=\"col_heading level0 col3\" >DEBT</th>\n",
       "      <th id=\"T_9dba0_level0_col4\" class=\"col_heading level0 col4\" >EDUC</th>\n",
       "    </tr>\n",
       "  </thead>\n",
       "  <tbody>\n",
       "    <tr>\n",
       "      <th id=\"T_9dba0_level0_row0\" class=\"row_heading level0 row0\" >ASSET</th>\n",
       "      <td id=\"T_9dba0_row0_col0\" class=\"data row0 col0\" >1.000000</td>\n",
       "      <td id=\"T_9dba0_row0_col1\" class=\"data row0 col1\" >0.364955</td>\n",
       "      <td id=\"T_9dba0_row0_col2\" class=\"data row0 col2\" >0.893282</td>\n",
       "      <td id=\"T_9dba0_row0_col3\" class=\"data row0 col3\" >0.477171</td>\n",
       "      <td id=\"T_9dba0_row0_col4\" class=\"data row0 col4\" >0.110659</td>\n",
       "    </tr>\n",
       "    <tr>\n",
       "      <th id=\"T_9dba0_level0_row1\" class=\"row_heading level0 row1\" >HOUSES</th>\n",
       "      <td id=\"T_9dba0_row1_col0\" class=\"data row1 col0\" >0.364955</td>\n",
       "      <td id=\"T_9dba0_row1_col1\" class=\"data row1 col1\" >1.000000</td>\n",
       "      <td id=\"T_9dba0_row1_col2\" class=\"data row1 col2\" >0.314501</td>\n",
       "      <td id=\"T_9dba0_row1_col3\" class=\"data row1 col3\" >0.676984</td>\n",
       "      <td id=\"T_9dba0_row1_col4\" class=\"data row1 col4\" >0.195174</td>\n",
       "    </tr>\n",
       "    <tr>\n",
       "      <th id=\"T_9dba0_level0_row2\" class=\"row_heading level0 row2\" >INCOME</th>\n",
       "      <td id=\"T_9dba0_row2_col0\" class=\"data row2 col0\" >0.893282</td>\n",
       "      <td id=\"T_9dba0_row2_col1\" class=\"data row2 col1\" >0.314501</td>\n",
       "      <td id=\"T_9dba0_row2_col2\" class=\"data row2 col2\" >1.000000</td>\n",
       "      <td id=\"T_9dba0_row2_col3\" class=\"data row2 col3\" >0.456622</td>\n",
       "      <td id=\"T_9dba0_row2_col4\" class=\"data row2 col4\" >0.108845</td>\n",
       "    </tr>\n",
       "    <tr>\n",
       "      <th id=\"T_9dba0_level0_row3\" class=\"row_heading level0 row3\" >DEBT</th>\n",
       "      <td id=\"T_9dba0_row3_col0\" class=\"data row3 col0\" >0.477171</td>\n",
       "      <td id=\"T_9dba0_row3_col1\" class=\"data row3 col1\" >0.676984</td>\n",
       "      <td id=\"T_9dba0_row3_col2\" class=\"data row3 col2\" >0.456622</td>\n",
       "      <td id=\"T_9dba0_row3_col3\" class=\"data row3 col3\" >1.000000</td>\n",
       "      <td id=\"T_9dba0_row3_col4\" class=\"data row3 col4\" >0.182570</td>\n",
       "    </tr>\n",
       "    <tr>\n",
       "      <th id=\"T_9dba0_level0_row4\" class=\"row_heading level0 row4\" >EDUC</th>\n",
       "      <td id=\"T_9dba0_row4_col0\" class=\"data row4 col0\" >0.110659</td>\n",
       "      <td id=\"T_9dba0_row4_col1\" class=\"data row4 col1\" >0.195174</td>\n",
       "      <td id=\"T_9dba0_row4_col2\" class=\"data row4 col2\" >0.108845</td>\n",
       "      <td id=\"T_9dba0_row4_col3\" class=\"data row4 col3\" >0.182570</td>\n",
       "      <td id=\"T_9dba0_row4_col4\" class=\"data row4 col4\" >1.000000</td>\n",
       "    </tr>\n",
       "  </tbody>\n",
       "</table>\n"
      ],
      "text/plain": [
       "<pandas.io.formats.style.Styler at 0x24ad5e00c70>"
      ]
     },
     "execution_count": 21,
     "metadata": {},
     "output_type": "execute_result"
    }
   ],
   "source": [
    "cols = [\"ASSET\", \"HOUSES\", \"INCOME\", \"DEBT\", \"EDUC\"]\n",
    "\n",
    "corr = df_fear[cols].corr()\n",
    "corr.style.background_gradient(axis=None)"
   ]
  },
  {
   "cell_type": "markdown",
   "id": "3b3336ec-614b-47b9-93f7-43ddb4a60a89",
   "metadata": {},
   "source": [
    "####\n",
    "Whoa! There are some pretty important differences here! The relationship between \"DEBT\" and \"HOUSES\" is positive for both datasets, but while the coefficient for df is fairly weak at 0.25, the same number for df_fear is 0.67.\r\n",
    "\r\n",
    "Remember, the closer a correlation coefficient is to 1.0, the more exactly they correspond. In this case, that means the value of the primary residence and the total debt held by the household is getting pretty close to being the same. This suggests that the main source of debt being carried by our \"TURNFEAR\" folks is their primary residence, which, again, is an intuitive finding.\r\n",
    "\r\n",
    "\"DEBT\" and \"ASSET\" share a similarly striking difference, as do \"EDUC\" and \"DEBT\" which, while not as extreme a contrast as the other, is still big enough to catch the interest of our hypothetical banker.\r\n",
    "\r\n",
    "Let's make some visualizations to show these relationships graphically."
   ]
  },
  {
   "cell_type": "code",
   "execution_count": null,
   "id": "45cd7505-6185-457e-a1dd-6eb8c4125aa1",
   "metadata": {},
   "outputs": [],
   "source": []
  }
 ],
 "metadata": {
  "kernelspec": {
   "display_name": "Python 3 (ipykernel)",
   "language": "python",
   "name": "python3"
  },
  "language_info": {
   "codemirror_mode": {
    "name": "ipython",
    "version": 3
   },
   "file_extension": ".py",
   "mimetype": "text/x-python",
   "name": "python",
   "nbconvert_exporter": "python",
   "pygments_lexer": "ipython3",
   "version": "3.10.11"
  }
 },
 "nbformat": 4,
 "nbformat_minor": 5
}
